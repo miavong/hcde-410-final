{
 "cells": [
  {
   "cell_type": "markdown",
   "id": "58ea1985-216b-4a21-b333-ac74f0f69a2c",
   "metadata": {},
   "source": [
    "# A4: Final project preliminary proposal\n",
    "\n",
    "## Overview:\n",
    "I plan on exploring the relation between countrie's investment into AI and how it realtes to thier economic freedom. The motivation behind this research proposal stems from the recent emergence of AI, and I hope to find correlations between AI investment and the  countries history of economic prosperity. As we've learned in this course, human labor is a controversal backbone behind AI training, I think it would be interesting to look at the economic state of the countries who are heavily invested in AI technology to determine how thier wealth and job market factors into AI investment. In addition, I am particially interested in how a countries who rank high in respect for intellectual property correlates with a countries commitment to artifical intelligence from a governmental POV. I hope that this exploration will help me understand why certain countries are prioritizing AI more than others and how this relates to overall economic strategy. \n",
    "\n",
    "## Research Questions\n",
    "1. Does a countries high investment in AI correlate with a stronger or weaker economic freedom score?\n",
    "2. How does a countries efforts into creating AI related jobs factor into the countries unemployment percentage?\n",
    "3. Does a goverment's respect for intellectual property influence thier efforts in funding AI research?\n",
    "\n",
    "## Background Research\n",
    "Scholars worry that AI could pose a threat to citizens the economic opportunities and free speech rights. For example, companies have started to implement AI into job recruitment, which could limit access to employment for marginalized canidates when the AI algorithms are trained on biases. (Article 1). In regards to concerns with freedom, when companies implement AI models into thier products the LLM can be trained on personal information which could threaten the privacy users, which could violate how a individual can protect thier information. Economists have predicted that the emergence of AI will create a \"boom in productivity\" which will allow technology to advance rapidly than ever before. In 2016 a Frontier Economics model, \"estimated that the widespread use of AI in society and business had the potential to double the annual economic growth rate by 2035 in the dozen developed economies studied (the US, 10 Western European countries and Japan)\" (Article 2). In conclusion, the AI industry is predicted to disrupt the global economy, but the question remains, at what ethical cost? I hope that by comparing economic freedom and AI investment on a global scale can predict the future impact AI will have on the global economy and spark further conversations around it's ethical and practical use in our daily lives. \n",
    "\n",
    "Article 1: (https://www.brennancenter.org/our-work/analysis-opinion/how-ai-threatens-civil-rights-and-economic-opportunities)\n",
    "Article 2: (https://www.chathamhouse.org/2018/06/artificial-intelligence-and-international-affairs/4-economic-implications-artificial)\n",
    "\n",
    "\n",
    "## Data \n",
    "### AI Global Impact\n",
    "1. AI global Impact: (https://www.kaggle.com/datasets/katerynameleshenko/ai-index) \n",
    "The data was collected in open sources: [https://www.tortoisemedia.com/intelligence/global-ai/], [https://www.worldbank.org/en/home], [https://ourworldindata.org/]\n",
    "### The Economic Freedom Index\n",
    "2. The Economic Freedom Index: (https://www.kaggle.com/datasets/lewisduncan93/the-economic-freedom-index)\n",
    "This dataset belongs to The Heritage Foundation: [https://www.heritage.org/index.] There was no licenses listed but after further exploration of The Heritage Foundation, this score is derived from university scholars all over the world, primarly professors in economics and psychology. \n",
    "\n",
    "## Data Methodology:\n",
    "I will be merging the AI global impact dataset which explores 62 countries' implementation of innovation and investment in AI and The Economic Freedom Index which tracks the economic freedom, prosperity, and opportunity of 162 countries from 2019. I want to merge these datasets by common countries in order to find correlations between economic structures and AI implementation.  By cleaning and merging the datasets, I will create a new dataset that only includes countries that have data from both sources. This will allow me compare the scores per variable for singular countries which will help me find trends between the two datasets. For example, I can extract a countries unemployment percentage from the Economic Freedom Index and compare it to the talent variable which measures the availability of skilled practitioners in AI technologies from the AI Global Impact to determine if a countries efforts into creating AI related jobs factor into the countries unemployment percentage. I plan on making data visualizations such as dot plots to compare different countries score with 2 variables as discribed in the example above.\n",
    "\n",
    "\n",
    "## Unknowns:\n",
    "There will be missing countries data due to the year of data collection between the AI Global Impact and Economic Freedom Index dataset with can pose data biases. For example, the AI dataset has 62 countries and the Economic dataset has 162 countries which narrows the amount of countries I'll be able to analyze. I think that this would be a great opportunity to clean and parse between two datasets and find correlations. \n",
    "\n",
    "## Licenses: \n",
    "MIT license is declared in LICENSE file \n",
    "\n",
    "## Peer Feedback:\n",
    "In my peer review, Mai Li agreed that comparing AI and the economy because of what we've learned about job markets and human labor surrounding AI would be very interesting. She suggests generating specific research such as: Does the advancement of AI correlate with stronger economies? Providing a direct research questions and potentially coming up with a hypothesis will help me clean the dataset and compare variables when combining both datasets. In addition, we discussed my audience as working class people because this is the demographic who is being affected by the economy. One ethical concern that I brought up was surrounding who is creating these index scores from the Economic Freedom Index dataset. We both agree that the people behind the economic dataset (where they are from, their educational background, political backgrounds etc.) could influence the level of freedom they assign to each company. She suggests in my next steps to research sources of the economic dataset to ensure that it is ethically calculated and backed up by academic studies to confirm the legitimacy of the data. "
   ]
  }
 ],
 "metadata": {
  "kernelspec": {
   "display_name": "Python 3 (ipykernel)",
   "language": "python",
   "name": "python3"
  },
  "language_info": {
   "codemirror_mode": {
    "name": "ipython",
    "version": 3
   },
   "file_extension": ".py",
   "mimetype": "text/x-python",
   "name": "python",
   "nbconvert_exporter": "python",
   "pygments_lexer": "ipython3",
   "version": "3.10.13"
  }
 },
 "nbformat": 4,
 "nbformat_minor": 5
}
