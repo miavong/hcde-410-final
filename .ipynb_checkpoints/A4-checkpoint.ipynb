{
 "cells": [
  {
   "cell_type": "markdown",
   "id": "58ea1985-216b-4a21-b333-ac74f0f69a2c",
   "metadata": {},
   "source": [
    "# A4: Final project preliminary proposal\n",
    "\n",
    "## Motivation:\n",
    "I plan on exploring the relation between countrie's investment into AI and thier state of economic freedom. I wonder if the recent emergence of AI is influeced by a countries history of economic prosperity. As we've learned in this course, human labor is a controversal backbone behind AI training, I think it would be useful to look at the economic state of the countries who are heavily invested in AI technology to determine how thier wealth and job market factors into AI. In addition, I am particially interested in how a countries respect for intellectual property rights correlates with a countries commitment to artifical intelligence from a govermental strategy POV. I hope that this exploration will help me understand why certain countries are prioritizing AI more than others and how this relates to citizen economic life. \n",
    "\n",
    "## Data:\n",
    "I will be merging the AI global impact dataset which explores 62 countries' implementation of innovation and invenstment in AI and The Economic Freedom Index which tracks the economic freedom, prosperity, and opportunity of 162 countries from 2019. I want to merge these datasets by common countries in order to find correlations between economic structures and AI implementation.\n",
    "### AI Global Impact\n",
    "1. AI global Impact [https://www.kaggle.com/datasets/katerynameleshenko/ai-index]\n",
    "The data was collected in open sources: [https://www.tortoisemedia.com/intelligence/global-ai/], [https://www.worldbank.org/en/home], [https://ourworldindata.org/]\n",
    "### The Economic Freedom Index\n",
    "3. The Economic Freedom Index: [https://www.kaggle.com/datasets/lewisduncan93/the-economic-freedom-index]\n",
    "This dataset belongs to The Heritage Foundation: [https://www.heritage.org/index.] There is no license found\n",
    "\n",
    "## Unknowns:\n",
    "There will be missing countries data due to the year of data collection between the AI Global Impact and Economic Freedom Index dataset with can pose data biases. For example, the AI dataset has 62 countries and the Economic dataset has 162 countries which narrows the amount of countries I'll be able to analyze. I think that this would be a great opportunity to clean and parse between two datasets and find correlations. I also need to do more research on where the 2019 economic freedom score is dervied from to accurate use this variable as academic research on the [heritage.org] site.\n",
    "\n",
    "## Licenses: \n",
    "MIT license is declared in LICENSE file "
   ]
  }
 ],
 "metadata": {
  "kernelspec": {
   "display_name": "Python 3 (ipykernel)",
   "language": "python",
   "name": "python3"
  },
  "language_info": {
   "codemirror_mode": {
    "name": "ipython",
    "version": 3
   },
   "file_extension": ".py",
   "mimetype": "text/x-python",
   "name": "python",
   "nbconvert_exporter": "python",
   "pygments_lexer": "ipython3",
   "version": "3.10.13"
  }
 },
 "nbformat": 4,
 "nbformat_minor": 5
}
